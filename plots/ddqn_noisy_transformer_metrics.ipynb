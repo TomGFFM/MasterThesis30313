{
 "cells": [
  {
   "cell_type": "code",
   "id": "initial_id",
   "metadata": {
    "collapsed": true,
    "ExecuteTime": {
     "end_time": "2024-10-27T15:04:13.532485Z",
     "start_time": "2024-10-27T15:04:13.110096Z"
    }
   },
   "source": [
    "# import relevant libs\n",
    "import plotly.express as px\n",
    "import pandas as pd"
   ],
   "outputs": [],
   "execution_count": 2
  },
  {
   "metadata": {
    "ExecuteTime": {
     "end_time": "2024-10-27T15:04:14.402711Z",
     "start_time": "2024-10-27T15:04:14.303008Z"
    }
   },
   "cell_type": "code",
   "source": [
    "# import metric files from the optuna trial of concern\n",
    "df_metrics = pd.read_parquet('/Users/thomas/Repositories/MasterThesis30313/output_remote_20241009/metrics/20241007_trial_3_DDQAugmentedNoisyTransformerNN_metrics.pq')\n",
    "df_q_metrics = pd.read_parquet('/Users/thomas/Repositories/MasterThesis30313/output_remote_20241009/metrics/20241007_trial_3_DDQAugmentedNoisyTransformerNN_q_metrics.pq')\n",
    "df_action_metrics = pd.read_parquet('/Users/thomas/Repositories/MasterThesis30313/output_remote_20241009/metrics/20241007_trial_3_DDQAugmentedNoisyTransformerNN_action_logs.pq')  "
   ],
   "id": "d731511939b563f5",
   "outputs": [],
   "execution_count": 3
  },
  {
   "metadata": {
    "ExecuteTime": {
     "end_time": "2024-10-27T15:05:47.548250Z",
     "start_time": "2024-10-27T15:05:47.540017Z"
    }
   },
   "cell_type": "code",
   "source": [
    "# pivot standard metrics prior to compare episodes\n",
    "df_metrics_pivot = pd.melt(df_metrics, id_vars=['episode'], var_name='value_type', value_name='value').sort_values(['episode', 'value_type']).reset_index(drop=True)"
   ],
   "id": "f184754d8ebc15a5",
   "outputs": [],
   "execution_count": 7
  },
  {
   "metadata": {
    "ExecuteTime": {
     "end_time": "2024-10-27T15:09:22.085245Z",
     "start_time": "2024-10-27T15:09:22.079045Z"
    }
   },
   "cell_type": "code",
   "source": "df_metrics.info()",
   "id": "c0e7fa3401ed4968",
   "outputs": [
    {
     "name": "stdout",
     "output_type": "stream",
     "text": [
      "<class 'pandas.core.frame.DataFrame'>\n",
      "RangeIndex: 1200 entries, 0 to 1199\n",
      "Data columns (total 11 columns):\n",
      " #   Column                  Non-Null Count  Dtype  \n",
      "---  ------                  --------------  -----  \n",
      " 0   episode                 1200 non-null   int64  \n",
      " 1   avg_episode_score       1200 non-null   float64\n",
      " 2   avg_episode_loss        1200 non-null   float64\n",
      " 3   mvg_avg_score           1200 non-null   float64\n",
      " 4   mvg_avg_loss            1200 non-null   float64\n",
      " 5   episode_score           1200 non-null   float64\n",
      " 6   episode_loss            1200 non-null   float64\n",
      " 7   total_no_steps          1200 non-null   int64  \n",
      " 8   model_saved             1200 non-null   bool   \n",
      " 9   minimum_tau_in_episode  1200 non-null   float64\n",
      " 10  minimum_lr_in_episode   1200 non-null   float64\n",
      "dtypes: bool(1), float64(8), int64(2)\n",
      "memory usage: 95.0 KB\n"
     ]
    }
   ],
   "execution_count": 14
  },
  {
   "metadata": {
    "ExecuteTime": {
     "end_time": "2024-10-27T15:12:00.711134Z",
     "start_time": "2024-10-27T15:12:00.702102Z"
    }
   },
   "cell_type": "code",
   "source": "df_q_metrics",
   "id": "f8b18fd74d3c8c5b",
   "outputs": [
    {
     "data": {
      "text/plain": [
       "       avg_q_value  max_q_value  min_q_value  q_value_variance  td_error  \\\n",
       "0        -0.438196     0.374603    -1.303706          0.116996  0.594772   \n",
       "1         0.956888     1.969018     0.266176          0.408045  1.208392   \n",
       "2         0.947579     1.647365     0.150398          0.195606  0.873180   \n",
       "3         0.909079     1.412724     0.142048          0.144357  0.626581   \n",
       "4         0.844022     1.095611     0.444443          0.033959  0.412280   \n",
       "...            ...          ...          ...               ...       ...   \n",
       "30117     0.125721     0.165016     0.070891          0.000403  0.004516   \n",
       "30118     0.116401     0.159390     0.055403          0.000400  0.003087   \n",
       "30119     0.118459     0.161011     0.060530          0.000385  0.006928   \n",
       "30120     0.114857     0.158327     0.064429          0.000394  0.003713   \n",
       "30121     0.122406     0.159026     0.068918          0.000291  0.004857   \n",
       "\n",
       "       positive_q_ratio  q_value_for_action  episode  \n",
       "0              0.098958           -0.097626       21  \n",
       "1              1.000000            1.726021       21  \n",
       "2              1.000000            1.432747       21  \n",
       "3              1.000000            1.073366       21  \n",
       "4              1.000000            0.896305       21  \n",
       "...                 ...                 ...      ...  \n",
       "30117          1.000000            0.133654     1200  \n",
       "30118          1.000000            0.123993     1200  \n",
       "30119          1.000000            0.125743     1200  \n",
       "30120          1.000000            0.122982     1200  \n",
       "30121          1.000000            0.130043     1200  \n",
       "\n",
       "[30122 rows x 8 columns]"
      ],
      "text/html": [
       "<div>\n",
       "<style scoped>\n",
       "    .dataframe tbody tr th:only-of-type {\n",
       "        vertical-align: middle;\n",
       "    }\n",
       "\n",
       "    .dataframe tbody tr th {\n",
       "        vertical-align: top;\n",
       "    }\n",
       "\n",
       "    .dataframe thead th {\n",
       "        text-align: right;\n",
       "    }\n",
       "</style>\n",
       "<table border=\"1\" class=\"dataframe\">\n",
       "  <thead>\n",
       "    <tr style=\"text-align: right;\">\n",
       "      <th></th>\n",
       "      <th>avg_q_value</th>\n",
       "      <th>max_q_value</th>\n",
       "      <th>min_q_value</th>\n",
       "      <th>q_value_variance</th>\n",
       "      <th>td_error</th>\n",
       "      <th>positive_q_ratio</th>\n",
       "      <th>q_value_for_action</th>\n",
       "      <th>episode</th>\n",
       "    </tr>\n",
       "  </thead>\n",
       "  <tbody>\n",
       "    <tr>\n",
       "      <th>0</th>\n",
       "      <td>-0.438196</td>\n",
       "      <td>0.374603</td>\n",
       "      <td>-1.303706</td>\n",
       "      <td>0.116996</td>\n",
       "      <td>0.594772</td>\n",
       "      <td>0.098958</td>\n",
       "      <td>-0.097626</td>\n",
       "      <td>21</td>\n",
       "    </tr>\n",
       "    <tr>\n",
       "      <th>1</th>\n",
       "      <td>0.956888</td>\n",
       "      <td>1.969018</td>\n",
       "      <td>0.266176</td>\n",
       "      <td>0.408045</td>\n",
       "      <td>1.208392</td>\n",
       "      <td>1.000000</td>\n",
       "      <td>1.726021</td>\n",
       "      <td>21</td>\n",
       "    </tr>\n",
       "    <tr>\n",
       "      <th>2</th>\n",
       "      <td>0.947579</td>\n",
       "      <td>1.647365</td>\n",
       "      <td>0.150398</td>\n",
       "      <td>0.195606</td>\n",
       "      <td>0.873180</td>\n",
       "      <td>1.000000</td>\n",
       "      <td>1.432747</td>\n",
       "      <td>21</td>\n",
       "    </tr>\n",
       "    <tr>\n",
       "      <th>3</th>\n",
       "      <td>0.909079</td>\n",
       "      <td>1.412724</td>\n",
       "      <td>0.142048</td>\n",
       "      <td>0.144357</td>\n",
       "      <td>0.626581</td>\n",
       "      <td>1.000000</td>\n",
       "      <td>1.073366</td>\n",
       "      <td>21</td>\n",
       "    </tr>\n",
       "    <tr>\n",
       "      <th>4</th>\n",
       "      <td>0.844022</td>\n",
       "      <td>1.095611</td>\n",
       "      <td>0.444443</td>\n",
       "      <td>0.033959</td>\n",
       "      <td>0.412280</td>\n",
       "      <td>1.000000</td>\n",
       "      <td>0.896305</td>\n",
       "      <td>21</td>\n",
       "    </tr>\n",
       "    <tr>\n",
       "      <th>...</th>\n",
       "      <td>...</td>\n",
       "      <td>...</td>\n",
       "      <td>...</td>\n",
       "      <td>...</td>\n",
       "      <td>...</td>\n",
       "      <td>...</td>\n",
       "      <td>...</td>\n",
       "      <td>...</td>\n",
       "    </tr>\n",
       "    <tr>\n",
       "      <th>30117</th>\n",
       "      <td>0.125721</td>\n",
       "      <td>0.165016</td>\n",
       "      <td>0.070891</td>\n",
       "      <td>0.000403</td>\n",
       "      <td>0.004516</td>\n",
       "      <td>1.000000</td>\n",
       "      <td>0.133654</td>\n",
       "      <td>1200</td>\n",
       "    </tr>\n",
       "    <tr>\n",
       "      <th>30118</th>\n",
       "      <td>0.116401</td>\n",
       "      <td>0.159390</td>\n",
       "      <td>0.055403</td>\n",
       "      <td>0.000400</td>\n",
       "      <td>0.003087</td>\n",
       "      <td>1.000000</td>\n",
       "      <td>0.123993</td>\n",
       "      <td>1200</td>\n",
       "    </tr>\n",
       "    <tr>\n",
       "      <th>30119</th>\n",
       "      <td>0.118459</td>\n",
       "      <td>0.161011</td>\n",
       "      <td>0.060530</td>\n",
       "      <td>0.000385</td>\n",
       "      <td>0.006928</td>\n",
       "      <td>1.000000</td>\n",
       "      <td>0.125743</td>\n",
       "      <td>1200</td>\n",
       "    </tr>\n",
       "    <tr>\n",
       "      <th>30120</th>\n",
       "      <td>0.114857</td>\n",
       "      <td>0.158327</td>\n",
       "      <td>0.064429</td>\n",
       "      <td>0.000394</td>\n",
       "      <td>0.003713</td>\n",
       "      <td>1.000000</td>\n",
       "      <td>0.122982</td>\n",
       "      <td>1200</td>\n",
       "    </tr>\n",
       "    <tr>\n",
       "      <th>30121</th>\n",
       "      <td>0.122406</td>\n",
       "      <td>0.159026</td>\n",
       "      <td>0.068918</td>\n",
       "      <td>0.000291</td>\n",
       "      <td>0.004857</td>\n",
       "      <td>1.000000</td>\n",
       "      <td>0.130043</td>\n",
       "      <td>1200</td>\n",
       "    </tr>\n",
       "  </tbody>\n",
       "</table>\n",
       "<p>30122 rows × 8 columns</p>\n",
       "</div>"
      ]
     },
     "execution_count": 15,
     "metadata": {},
     "output_type": "execute_result"
    }
   ],
   "execution_count": 15
  },
  {
   "metadata": {
    "ExecuteTime": {
     "end_time": "2024-10-27T15:09:05.464570Z",
     "start_time": "2024-10-27T15:09:05.457973Z"
    }
   },
   "cell_type": "code",
   "source": "df_action_metrics.info()",
   "id": "13c627f614881b0f",
   "outputs": [
    {
     "name": "stdout",
     "output_type": "stream",
     "text": [
      "<class 'pandas.core.frame.DataFrame'>\n",
      "RangeIndex: 3500887 entries, 0 to 3500886\n",
      "Data columns (total 4 columns):\n",
      " #   Column        Dtype  \n",
      "---  ------        -----  \n",
      " 0   episode       int64  \n",
      " 1   action        int64  \n",
      " 2   action_type   object \n",
      " 3   q_values_sum  float64\n",
      "dtypes: float64(1), int64(2), object(1)\n",
      "memory usage: 106.8+ MB\n"
     ]
    }
   ],
   "execution_count": 12
  },
  {
   "metadata": {},
   "cell_type": "code",
   "outputs": [],
   "execution_count": null,
   "source": "",
   "id": "cc70d59115de6388"
  }
 ],
 "metadata": {
  "kernelspec": {
   "display_name": "Python 3",
   "language": "python",
   "name": "python3"
  },
  "language_info": {
   "codemirror_mode": {
    "name": "ipython",
    "version": 2
   },
   "file_extension": ".py",
   "mimetype": "text/x-python",
   "name": "python",
   "nbconvert_exporter": "python",
   "pygments_lexer": "ipython2",
   "version": "2.7.6"
  }
 },
 "nbformat": 4,
 "nbformat_minor": 5
}
